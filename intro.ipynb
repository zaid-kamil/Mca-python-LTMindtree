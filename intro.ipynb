{
 "cells": [
  {
   "cell_type": "code",
   "execution_count": null,
   "id": "6e96a5b7",
   "metadata": {},
   "outputs": [
    {
     "data": {
      "text/plain": [
       "4"
      ]
     },
     "execution_count": 1,
     "metadata": {},
     "output_type": "execute_result"
    },
    {
     "ename": "",
     "evalue": "",
     "output_type": "error",
     "traceback": [
      "\u001b[1;31mThe Kernel crashed while executing code in the current cell or a previous cell. \n",
      "\u001b[1;31mPlease review the code in the cell(s) to identify a possible cause of the failure. \n",
      "\u001b[1;31mClick <a href='https://aka.ms/vscodeJupyterKernelCrash'>here</a> for more info. \n",
      "\u001b[1;31mView Jupyter <a href='command:jupyter.viewOutput'>log</a> for further details."
     ]
    }
   ],
   "source": [
    "2 + 2"
   ]
  },
  {
   "cell_type": "code",
   "execution_count": null,
   "id": "c3e3b88f",
   "metadata": {},
   "outputs": [
    {
     "name": "stdout",
     "output_type": "stream",
     "text": [
      "a: 48, b: 18  -> a % b: 12\n",
      "a: 18, b: 12  -> a % b: 6\n",
      "a: 12, b: 6  -> a % b: 0\n",
      "6\n"
     ]
    }
   ],
   "source": [
    "# Compute GCD using Euclidean algorithm\n",
    "# the euclidean algorithm is based on the principle that the GCD of two numbers also divides their difference.\n",
    "# The algorithm can be summarized in the following steps:\n",
    "a, b = 48, 18\n",
    "while b:\n",
    "    print(f'a: {a}, b: {b}  -> a % b: {a % b}')\n",
    "    a, b = b, a % b\n",
    "print(a)"
   ]
  },
  {
   "cell_type": "code",
   "execution_count": null,
   "id": "37a71d21",
   "metadata": {},
   "outputs": [
    {
     "name": "stdout",
     "output_type": "stream",
     "text": [
      "Integer square root of 25 is 5.\n",
      "Square of 5 is 25.\n",
      "25 is a perfect square.\n"
     ]
    }
   ],
   "source": [
    "# check perfect square (a perfect square is an integer that is the square of an integer)\n",
    "import math\n",
    "n = 25\n",
    "root = math.isqrt(n)\n",
    "print(f\"Integer square root of {n} is {root}.\")\n",
    "print(f\"Square of {root} is {root * root}.\")\n",
    "if root * root == n:\n",
    "    print(f\"{n} is a perfect square.\")\n"
   ]
  },
  {
   "cell_type": "code",
   "execution_count": 19,
   "id": "4c0cd6e1",
   "metadata": {},
   "outputs": [
    {
     "name": "stdout",
     "output_type": "stream",
     "text": [
      "programming\n"
     ]
    }
   ],
   "source": [
    "# Find longest word\n",
    "s = \"I love programming its is very interesting and simpel\"\n",
    "words = s.split()\n",
    "longest = max(words, key=len)   # fill here\n",
    "print(longest)\n"
   ]
  },
  {
   "cell_type": "code",
   "execution_count": null,
   "id": "4b7050cf",
   "metadata": {},
   "outputs": [],
   "source": []
  }
 ],
 "metadata": {
  "kernelspec": {
   "display_name": "Mca python LTMindtree",
   "language": "python",
   "name": "python3"
  },
  "language_info": {
   "codemirror_mode": {
    "name": "ipython",
    "version": 3
   },
   "file_extension": ".py",
   "mimetype": "text/x-python",
   "name": "python",
   "nbconvert_exporter": "python",
   "pygments_lexer": "ipython3",
   "version": "3.13.1"
  }
 },
 "nbformat": 4,
 "nbformat_minor": 5
}
