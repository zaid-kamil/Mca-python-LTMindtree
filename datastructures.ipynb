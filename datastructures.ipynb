{
 "cells": [
  {
   "cell_type": "markdown",
   "id": "adb167cd",
   "metadata": {},
   "source": [
    "# Data structure in python"
   ]
  },
  {
   "cell_type": "code",
   "execution_count": null,
   "id": "9ef4be5e",
   "metadata": {},
   "outputs": [],
   "source": [
    "x = [] # empty list\n",
    "nums = [1,2,3,4]\n",
    "fruits = ['apple','apricot','avocado']\n",
    "prices = ['apple', 200, 'apricot', 100, 'avocado', 300]"
   ]
  },
  {
   "cell_type": "code",
   "execution_count": null,
   "id": "1cf42405",
   "metadata": {},
   "outputs": [],
   "source": [
    "words = \"This is sparta\".split()\n",
    "print(words)"
   ]
  },
  {
   "cell_type": "code",
   "execution_count": null,
   "id": "2d6bcfd7",
   "metadata": {},
   "outputs": [],
   "source": [
    "dup = [1] * 10\n",
    "print(dup)"
   ]
  },
  {
   "cell_type": "code",
   "execution_count": null,
   "id": "a64c5020",
   "metadata": {},
   "outputs": [],
   "source": [
    "a = [\n",
    "    [1,2,3],\n",
    "    [3,4,5],\n",
    "]\n",
    "print(a)\n",
    "b = [[1,2],[3,3,4],[2,3,1]]\n",
    "print(b)"
   ]
  },
  {
   "cell_type": "code",
   "execution_count": null,
   "id": "58766400",
   "metadata": {},
   "outputs": [],
   "source": [
    "x = [1,2,3]\n",
    "y = [x,x,x] # y = [[1,2,3],[1,2,3],[1,2,3]]\n",
    "print(y)"
   ]
  },
  {
   "cell_type": "code",
   "execution_count": null,
   "id": "22d04d0a",
   "metadata": {},
   "outputs": [],
   "source": [
    "a = [1,2,3] \n",
    "b = [3,4,5]\n",
    "print(a + b) # concatenation\n",
    "c = a + b\n",
    "print(c) # list join"
   ]
  },
  {
   "cell_type": "markdown",
   "id": "557f0d55",
   "metadata": {},
   "source": [
    "# list manipulation - 11 methods in list\n",
    "- adding elements\n",
    "  - `append()` - add item at the end\n",
    "  - `insert()` - add item at an index\n",
    "  - `extend()` - add a list to a existing list\n",
    "- removing elements\n",
    "  - `remove()` - remove item by value\n",
    "  - `pop()`    - remove item by index (or end)\n",
    "  - `clear()`  - clear all values\n",
    "- utilities\n",
    "  - `count()`  - count occurance of an item\n",
    "  - `index()`  - get the first index of value \n",
    "  - `reverse()` - reverse a list\n",
    "  - `sort()`    -  sort a homogeneous list\n",
    "  - `copy()`    - create a shallow copy of a list"
   ]
  },
  {
   "cell_type": "code",
   "execution_count": null,
   "id": "96c2cb3d",
   "metadata": {},
   "outputs": [],
   "source": [
    "books = []\n",
    "books.append(\"The final empire\")\n",
    "books.append(\"Hero of ages\")\n",
    "books.append(\"Well of ascension\")\n",
    "print(books)"
   ]
  },
  {
   "cell_type": "code",
   "execution_count": null,
   "id": "4f0ea085",
   "metadata": {},
   "outputs": [],
   "source": [
    "books.insert(1, \"Words of Radiance\")\n",
    "print(books)"
   ]
  },
  {
   "cell_type": "code",
   "execution_count": null,
   "id": "f3d1e796",
   "metadata": {},
   "outputs": [],
   "source": [
    "books.insert(10, \"Hello world\") # cant add to 10th index, put it at end\n",
    "print(books)"
   ]
  },
  {
   "cell_type": "code",
   "execution_count": null,
   "id": "e18f3beb",
   "metadata": {},
   "outputs": [],
   "source": [
    "books.extend(['Wings of fire','War and peace'])\n",
    "print(books)\n"
   ]
  },
  {
   "cell_type": "code",
   "execution_count": null,
   "id": "14938fdb",
   "metadata": {},
   "outputs": [],
   "source": [
    "books"
   ]
  },
  {
   "cell_type": "code",
   "execution_count": null,
   "id": "6db57787",
   "metadata": {},
   "outputs": [],
   "source": [
    "if 'Hello world' in books:\n",
    "    books.remove(\"Hello world\")\n",
    "print(books)"
   ]
  },
  {
   "cell_type": "code",
   "execution_count": null,
   "id": "efdf3393",
   "metadata": {},
   "outputs": [],
   "source": [
    "books.pop(1) #index based"
   ]
  },
  {
   "cell_type": "code",
   "execution_count": null,
   "id": "f698969d",
   "metadata": {},
   "outputs": [],
   "source": [
    "books.pop(3)"
   ]
  },
  {
   "cell_type": "code",
   "execution_count": null,
   "id": "06a59a2b",
   "metadata": {},
   "outputs": [],
   "source": [
    "books.pop() # last item by default"
   ]
  },
  {
   "cell_type": "code",
   "execution_count": null,
   "id": "edceca64",
   "metadata": {},
   "outputs": [],
   "source": [
    "print(books)\n",
    "books.clear()\n",
    "print(books)"
   ]
  },
  {
   "cell_type": "code",
   "execution_count": null,
   "id": "34241c3b",
   "metadata": {},
   "outputs": [],
   "source": [
    "x = [1,42,23,5,23,56,67]\n",
    "print(x)\n",
    "x.reverse()\n",
    "print(x)\n",
    "x.sort()        # asc\n",
    "print(x)\n",
    "x.sort(reverse=True) # desc\n",
    "print(x)"
   ]
  },
  {
   "cell_type": "code",
   "execution_count": null,
   "id": "0beac330",
   "metadata": {},
   "outputs": [],
   "source": [
    "vegies = ['potato','tomato','brinjal','cauliflower', 'potato']\n",
    "print(vegies.index('tomato')) # index 1\n",
    "print(vegies.index('potato')) # index 0"
   ]
  },
  {
   "cell_type": "code",
   "execution_count": null,
   "id": "67117c88",
   "metadata": {},
   "outputs": [],
   "source": [
    "x = [1,2,3,4,12,123,123,12,312,31,312,31,23,12]\n",
    "print(x.count(12))\n",
    "print(x.count(123))\n",
    "print(x.count(100))"
   ]
  },
  {
   "cell_type": "code",
   "execution_count": null,
   "id": "392934eb",
   "metadata": {},
   "outputs": [],
   "source": [
    "x = [1,2,3]\n",
    "y = x\n",
    "print(x, y)\n",
    "print(x == y) # true\n",
    "print(x is y) # true because they are sharing same memory\n",
    "z = x.copy() # create a new memory location and copy values of x\n",
    "print(x == z) # true because values are same\n",
    "print(x is z) # false as they dont share same location"
   ]
  },
  {
   "cell_type": "markdown",
   "id": "ae6286d4",
   "metadata": {},
   "source": [
    "# dictionary"
   ]
  },
  {
   "cell_type": "code",
   "execution_count": null,
   "id": "48e5e224",
   "metadata": {},
   "outputs": [],
   "source": [
    "x = {}   # empty dict\n",
    "y = dict()  # empty dict\n",
    "# check type of item\n",
    "print(isinstance(x, list))\n",
    "print(isinstance(x, dict))"
   ]
  },
  {
   "cell_type": "code",
   "execution_count": null,
   "id": "e06d9955",
   "metadata": {},
   "outputs": [],
   "source": [
    "student = {\n",
    "    '001' : \"A SASIDHAR\",\n",
    "    '002' : \"B A REDDY\",\n",
    "    'name': \"MCA student\",\n",
    "    'class timing' : \"8AM - 1PM\"\n",
    "}\n",
    "\n",
    "print(student)\n",
    "print(student['class timing'])\n",
    "print(student['001'])"
   ]
  },
  {
   "cell_type": "code",
   "execution_count": null,
   "id": "2d8b97a6",
   "metadata": {},
   "outputs": [],
   "source": [
    "movies = {\n",
    "    'mirai' : {\n",
    "        'cast' : \"Teja Sajja and Manchu Manoj\",\n",
    "        'year': 2025,\n",
    "        'genre': 'action/fantasy'\n",
    "    },\n",
    "    'coolie': {\n",
    "        'cast': \"Rajnikant and whatever you say\",\n",
    "        'genre': 'action/thriller',\n",
    "    }\n",
    "}\n",
    "movies"
   ]
  },
  {
   "cell_type": "code",
   "execution_count": null,
   "id": "80b4db08",
   "metadata": {},
   "outputs": [],
   "source": [
    "expense = dict(shoes = 1299, cloths = 5999, groceries = 1239)\n",
    "print(expense)"
   ]
  },
  {
   "cell_type": "markdown",
   "id": "9bb3775f",
   "metadata": {},
   "source": [
    "# dictionary methods\n",
    "- accessing data\n",
    "  - get()\n",
    "  - keys()\n",
    "  - values()\n",
    "  - items()"
   ]
  },
  {
   "cell_type": "code",
   "execution_count": 90,
   "id": "7a130b52",
   "metadata": {},
   "outputs": [
    {
     "name": "stdout",
     "output_type": "stream",
     "text": [
      "{'cast': 'Rajnikant and whatever you say', 'genre': 'action/thriller'}\n",
      "Movie Not found\n",
      "Movie Not found\n"
     ]
    }
   ],
   "source": [
    "print(movies.get('coolie', \"Movie Not found\"))\n",
    "print(movies.get('kanappa',\"Movie Not found\"))\n",
    "print(movies.get('Mirai',\"Movie Not found\"))"
   ]
  },
  {
   "cell_type": "code",
   "execution_count": 92,
   "id": "e0be30f1",
   "metadata": {},
   "outputs": [
    {
     "data": {
      "text/plain": [
       "dict_items([('shoes', 1299), ('cloths', 5999), ('groceries', 1239)])"
      ]
     },
     "execution_count": 92,
     "metadata": {},
     "output_type": "execute_result"
    }
   ],
   "source": [
    "expense.items()"
   ]
  },
  {
   "cell_type": "code",
   "execution_count": 93,
   "id": "59a96cb2",
   "metadata": {},
   "outputs": [
    {
     "data": {
      "text/plain": [
       "dict_keys(['shoes', 'cloths', 'groceries'])"
      ]
     },
     "execution_count": 93,
     "metadata": {},
     "output_type": "execute_result"
    }
   ],
   "source": [
    "expense.keys()"
   ]
  },
  {
   "cell_type": "code",
   "execution_count": 94,
   "id": "aa50cf93",
   "metadata": {},
   "outputs": [
    {
     "data": {
      "text/plain": [
       "dict_values([1299, 5999, 1239])"
      ]
     },
     "execution_count": 94,
     "metadata": {},
     "output_type": "execute_result"
    }
   ],
   "source": [
    "expense.values()"
   ]
  },
  {
   "cell_type": "code",
   "execution_count": 97,
   "id": "03fc94cc",
   "metadata": {},
   "outputs": [
    {
     "name": "stdout",
     "output_type": "stream",
     "text": [
      "Contact not found, add it\n",
      "Ok bye 🏃‍♂️\n"
     ]
    }
   ],
   "source": [
    "# contact book example in python using dict\n",
    "contacts = {\n",
    "    'emergency' : 108\n",
    "}\n",
    "while True:\n",
    "    name = input(\"enter the person name\")\n",
    "    if name in contacts:\n",
    "        print(\"Details found\")\n",
    "        print(f\"{name} -> {contacts.get(name)}\")\n",
    "    else:\n",
    "        print(\"Contact not found, add it\")\n",
    "        if input(\"Do you want to add it y/n\") == 'n':\n",
    "            print(\"Ok bye 🏃‍♂️\")\n",
    "            break\n",
    "        number = int(input(\"Enter contact detail\"))\n",
    "        contacts[name] = number\n",
    "        print(\"Successfully added\")\n",
    "    ch = input(\"Do you want to quit y/n\")\n",
    "    if ch == 'y':\n",
    "        print(\"Ok bye 🏃‍♂️\")\n",
    "        break\n",
    "    "
   ]
  },
  {
   "cell_type": "code",
   "execution_count": 96,
   "id": "83f25c0f",
   "metadata": {},
   "outputs": [
    {
     "data": {
      "text/plain": [
       "{'emergency': 108, 'Rohan': 23982381922, 'Raju': 12930129310}"
      ]
     },
     "execution_count": 96,
     "metadata": {},
     "output_type": "execute_result"
    }
   ],
   "source": [
    "contacts"
   ]
  },
  {
   "cell_type": "code",
   "execution_count": null,
   "id": "208dd7ad",
   "metadata": {},
   "outputs": [],
   "source": []
  }
 ],
 "metadata": {
  "kernelspec": {
   "display_name": "Mca python LTMindtree",
   "language": "python",
   "name": "python3"
  },
  "language_info": {
   "codemirror_mode": {
    "name": "ipython",
    "version": 3
   },
   "file_extension": ".py",
   "mimetype": "text/x-python",
   "name": "python",
   "nbconvert_exporter": "python",
   "pygments_lexer": "ipython3",
   "version": "3.13.1"
  }
 },
 "nbformat": 4,
 "nbformat_minor": 5
}
